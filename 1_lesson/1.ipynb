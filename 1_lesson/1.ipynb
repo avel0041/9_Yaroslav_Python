{
 "cells": [
  {
   "cell_type": "code",
   "execution_count": null,
   "metadata": {},
   "outputs": [],
   "source": [
    "# Пользователь вводит два числа. Одно присваивается одной переменной, а второе — другой. \n",
    "# Необходимо поменять значения переменных так, чтобы значение первой оказалось во второй, а второй — в первой."
   ]
  },
  {
   "cell_type": "code",
   "execution_count": null,
   "metadata": {},
   "outputs": [],
   "source": [
    "# Вводятся три целых числа. Определить какое из них наибольшее."
   ]
  },
  {
   "cell_type": "code",
   "execution_count": null,
   "metadata": {},
   "outputs": [],
   "source": [
    "# Пользователь вводит 2 числа. Если они оба больше 10, вывести \"YES\", иначе вывести \"NO\"\n",
    "a = int(input())\n",
    "b = int(input())\n",
    "if a > 10 and b >10:\n",
    "    print('yes')\n",
    "else: \n",
    "    print('no')\n"
   ]
  },
  {
   "cell_type": "code",
   "execution_count": 34,
   "metadata": {},
   "outputs": [
    {
     "name": "stdout",
     "output_type": "stream",
     "text": [
      "[1, 3, 5, 7, 9, 11, 14, 17, 21, 35]\n"
     ]
    }
   ],
   "source": [
    "a=[1, 3, 5, 7, 9, 11, 14, 17, 21, 35]\n",
    "\n",
    "print(a[::1])"
   ]
  },
  {
   "cell_type": "code",
   "execution_count": null,
   "metadata": {},
   "outputs": [],
   "source": [
    "print(\"Введите число (в см)\")\n",
    "x = int(input())\n",
    "print(x, \"сантиметров, это\", x//100, \"метр\")"
   ]
  },
  {
   "cell_type": "code",
   "execution_count": 5,
   "metadata": {},
   "outputs": [
    {
     "name": "stdout",
     "output_type": "stream",
     "text": [
      "Введите число\n",
      "2---4---6---8---10\n",
      "4\n",
      "6\n",
      "10\n"
     ]
    }
   ],
   "source": [
    "print(\"Введите число\")\n",
    "x = int(input())\n",
    "print(x, x*2, x*3, x*4, x*5, sep='---')\n",
    "print(x*2)\n",
    "print(x*3)\n",
    "print(x*5)"
   ]
  },
  {
   "cell_type": "code",
   "execution_count": null,
   "metadata": {},
   "outputs": [],
   "source": []
  }
 ],
 "metadata": {
  "kernelspec": {
   "display_name": "Python 3",
   "language": "python",
   "name": "python3"
  },
  "language_info": {
   "codemirror_mode": {
    "name": "ipython",
    "version": 3
   },
   "file_extension": ".py",
   "mimetype": "text/x-python",
   "name": "python",
   "nbconvert_exporter": "python",
   "pygments_lexer": "ipython3",
   "version": "3.10.2"
  }
 },
 "nbformat": 4,
 "nbformat_minor": 2
}
