{
 "cells": [
  {
   "cell_type": "markdown",
   "metadata": {},
   "source": [
    "**Дан массив целых чисел. Напечатать:**\n",
    "1) Элементы с нечетными номерами\n",
    "2) Положительные и оканчивающиеся на 5\n",
    "3) Отрицательные и кратные 3\n"
   ]
  },
  {
   "cell_type": "code",
   "execution_count": 4,
   "metadata": {},
   "outputs": [
    {
     "name": "stdout",
     "output_type": "stream",
     "text": [
      "-6\n",
      "-9\n"
     ]
    }
   ],
   "source": [
    "a = [-6, 0, 2, 104215, 21, 17, -2, -4, -9, -124312, 85]\n",
    "i = 0\n",
    "for i in range(len(a)):\n",
    "    if a[i] < 0 and a[i] % 3 == 0:\n",
    "        print(a[i])"
   ]
  },
  {
   "cell_type": "markdown",
   "metadata": {},
   "source": [
    "**Дан массив a(его нельзя менять)**\n",
    "1) Каждый отрицательный элемент заменить на его абсолютную величину\n",
    "2) Все элементы, кратные числу 10, заменить нулем.\n",
    "3) Все нечетные элементы увеличить вдвое, а четные уменьшить вдвое.\n",
    "4) Все элементы с нечетными номерами увеличить на 10, с четными - уменьшить на 10\n",
    "5) Все элементы, оканчивающиеся на 5 заменить на 555.\n",
    "6) Все элементы меньшие последнего уменьшить на первый элемент.\n",
    "7) Все элементы меньшие среднего арифметического первого и последнего элементов заменить на 0, остальные на 1.  \n",
    "Вывести получившийся массив"
   ]
  },
  {
   "cell_type": "code",
   "execution_count": 20,
   "metadata": {},
   "outputs": [
    {
     "name": "stdout",
     "output_type": "stream",
     "text": [
      "[0, 0, 0, 1, 0, 0, 0, 0, 0, 0, 1, 1, 1]\n"
     ]
    }
   ],
   "source": [
    "from statistics import mean\n",
    "\n",
    "a = [-6, 0, 2, 104215, 21, 17, -2, -4, -9, -124312, 85, 90, 100]\n",
    "i = 0\n",
    "\n",
    "# c = 0\n",
    "# n = 10\n",
    "# sr = (c+n)/2\n",
    "j = mean([a[0], a[-1]])\n",
    "\n",
    "for i in range(len(a)):\n",
    "    if a[i] < j:\n",
    "        a[i] = 0\n",
    "    else:\n",
    "        a[i] = 1\n",
    "print(a)"
   ]
  },
  {
   "cell_type": "markdown",
   "metadata": {},
   "source": [
    "**Дан массив целых чисел. Найти количество:**\n",
    "1) элементов принадлежащих промежутку от a до b (a и b вводятся с клавиатуры b>a).\n"
   ]
  },
  {
   "cell_type": "code",
   "execution_count": 23,
   "metadata": {},
   "outputs": [
    {
     "name": "stdout",
     "output_type": "stream",
     "text": [
      "2\n",
      "21\n",
      "17\n",
      "85\n",
      "90\n"
     ]
    }
   ],
   "source": [
    "arra = [-6, 0, 2, 104215, 21, 17, -2, -4, -9, -124312, 85, 90, 412380, 100]\n",
    "\n",
    "a = int(input()) #5\n",
    "b = int(input()) #100\n",
    "for i in range(len(arra)):\n",
    "    if arra[i] > a and arra[i] < b:\n",
    "        print(arra[i])"
   ]
  },
  {
   "cell_type": "markdown",
   "metadata": {},
   "source": [
    "**Дан массив целых чисел. Найти сумму:**\n",
    "1) всех элементов\n",
    "2) элементов массива, больших числа a\n",
    "3) элементов массива с четными номерами\n"
   ]
  },
  {
   "cell_type": "code",
   "execution_count": 4,
   "metadata": {},
   "outputs": [
    {
     "name": "stdout",
     "output_type": "stream",
     "text": [
      "412471\n"
     ]
    }
   ],
   "source": [
    "array = [-6, 0, 2, 104215, 21, 17, -2, -4, -9, -124312, 85, 90, 412380, 100]\n",
    "# a = int(input())\n",
    "i = 0\n",
    "j = 0\n",
    "for i in range(0, len(array)):\n",
    "    if i % 2 == 0:\n",
    "        j = array[i] + j \n",
    "print(j)\n"
   ]
  },
  {
   "cell_type": "markdown",
   "metadata": {},
   "source": [
    "**Дан массив. Определить:**\n",
    "1) Максимальный и минимальный элементы\n",
    "2) Индексы минимального и максимального элементов\n"
   ]
  },
  {
   "cell_type": "code",
   "execution_count": 14,
   "metadata": {},
   "outputs": [
    {
     "name": "stdout",
     "output_type": "stream",
     "text": [
      "2\n",
      "6\n",
      "12\n"
     ]
    }
   ],
   "source": [
    "a = [-6, -9, -2, -104215, -21, -17, -2, -4, -9, -124312, -85, -90, -412380, -100]\n",
    "\n",
    "for i in range(0, len(a)):\n",
    "     if a[i] == max(a): \n",
    "        print(i)\n",
    "     if a[i] == min(a):\n",
    "        print(i)\n"
   ]
  },
  {
   "cell_type": "markdown",
   "metadata": {},
   "source": [
    "**Найти количество пар ''соседних'' элементов массива (и вывести их)**\n",
    "1) являющихся четными (нечетными) числами"
   ]
  },
  {
   "cell_type": "code",
   "execution_count": null,
   "metadata": {},
   "outputs": [],
   "source": [
    "array = [-6, 0, 2, 104215, 21, 17, -2, -4, -9, -124312, 85, 90, 412380, 100]"
   ]
  },
  {
   "cell_type": "markdown",
   "metadata": {},
   "source": [
    "**Вывести на экран элементы:**\n",
    "1) которые больше (меньше) своих ''соседей'', т.е. предшествующего и последующего (локальный максимум, минимум)\n",
    "2) Найти минимальный (максимальный) из локальных максимумов\n",
    "3) Найти минимальный (максимальный) из локальных минимумов "
   ]
  },
  {
   "cell_type": "code",
   "execution_count": null,
   "metadata": {},
   "outputs": [],
   "source": [
    "array = [-6, 0, 2, 104215, 21, 17, -2, -4, -9, -124312, 85, 90, 412380, 100, 20, 400, -5]"
   ]
  },
  {
   "cell_type": "markdown",
   "metadata": {},
   "source": [
    "**Вывести элементы в порядке возрастания**\n"
   ]
  },
  {
   "cell_type": "code",
   "execution_count": 3,
   "metadata": {},
   "outputs": [],
   "source": [
    "array = [-6, 0, 2, 104215, 21, 17, -2, -4, -9, -124312, 85, 90, 412380, 100, 20, 400, -5]\n"
   ]
  }
 ],
 "metadata": {
  "kernelspec": {
   "display_name": "Python 3",
   "language": "python",
   "name": "python3"
  },
  "language_info": {
   "codemirror_mode": {
    "name": "ipython",
    "version": 3
   },
   "file_extension": ".py",
   "mimetype": "text/x-python",
   "name": "python",
   "nbconvert_exporter": "python",
   "pygments_lexer": "ipython3",
   "version": "3.10.2"
  }
 },
 "nbformat": 4,
 "nbformat_minor": 2
}
